{
 "cells": [
  {
   "cell_type": "code",
   "execution_count": 1,
   "metadata": {},
   "outputs": [],
   "source": [
    "import pandas as pd\n",
    "import re"
   ]
  },
  {
   "cell_type": "markdown",
   "metadata": {},
   "source": [
    "## Load SNOMED CT from its original file and lowercase all terms"
   ]
  },
  {
   "cell_type": "code",
   "execution_count": 2,
   "metadata": {},
   "outputs": [],
   "source": [
    "SNOMED_TERMS = \"./terminologies/SnomedCT_InternationalRF2_PRODUCTION_20200731T120000Z/Snapshot/Terminology/sct2_Description_Snapshot-en_INT_20200731.txt\"\n",
    "snomed = pd.read_csv(SNOMED_TERMS, sep='\\t')\n",
    "snomed['term'] = snomed['term'].str.lower()"
   ]
  },
  {
   "cell_type": "markdown",
   "metadata": {},
   "source": [
    "## Search and filter functions"
   ]
  },
  {
   "cell_type": "code",
   "execution_count": 3,
   "metadata": {},
   "outputs": [],
   "source": [
    "def search(term):\n",
    "    term = term.lower()\n",
    "    try:\n",
    "        term_conceptId = snomed[(snomed.active==1)&(snomed.term==term)].iloc[0]['conceptId']\n",
    "    except:\n",
    "        print(\"NOT FOUND!\")\n",
    "        return([term])\n",
    "    synonyms = snomed[(snomed.active==1)&(snomed.conceptId==term_conceptId)]['term'].tolist()\n",
    "    #synonyms.remove(term) # remove itself? Depending on the implementation\n",
    "    synonyms = filter(synonyms)\n",
    "    return(synonyms)\n",
    "\n",
    "# Filter to remove long useless names with parentheses, numbers, etc - characters and blanks only for now\n",
    "def filter(synonyms):\n",
    "    KEEP_IT = re.compile(r'^[a-zA-Z\\s]+$')\n",
    "    clean_synonyms = []\n",
    "    for term in synonyms:\n",
    "        if KEEP_IT.match(term):\n",
    "            clean_synonyms.append(term)\n",
    "    return(clean_synonyms)"
   ]
  },
  {
   "cell_type": "markdown",
   "metadata": {},
   "source": [
    "## A few tests"
   ]
  },
  {
   "cell_type": "code",
   "execution_count": 4,
   "metadata": {},
   "outputs": [
    {
     "data": {
      "text/plain": [
       "['aspirin', 'acetylsalicylic acid']"
      ]
     },
     "execution_count": 4,
     "metadata": {},
     "output_type": "execute_result"
    }
   ],
   "source": [
    "search(\"aspirin\")"
   ]
  },
  {
   "cell_type": "code",
   "execution_count": 5,
   "metadata": {},
   "outputs": [
    {
     "data": {
      "text/plain": [
       "['blastoma',\n",
       " 'malignancy',\n",
       " 'cancer',\n",
       " 'malignant neoplasm',\n",
       " 'malignant tumour morphology',\n",
       " 'malignant tumor morphology',\n",
       " 'cancer morphology']"
      ]
     },
     "execution_count": 5,
     "metadata": {},
     "output_type": "execute_result"
    }
   ],
   "source": [
    "search(\"cancer\")"
   ]
  },
  {
   "cell_type": "code",
   "execution_count": 6,
   "metadata": {},
   "outputs": [
    {
     "data": {
      "text/plain": [
       "['stomach', 'ventriculus', 'stomach structure']"
      ]
     },
     "execution_count": 6,
     "metadata": {},
     "output_type": "execute_result"
    }
   ],
   "source": [
    "search(\"stomach\")"
   ]
  },
  {
   "cell_type": "code",
   "execution_count": 7,
   "metadata": {},
   "outputs": [
    {
     "data": {
      "text/plain": [
       "['pain', 'dolor', 'painful', 'part hurts', 'pain observations']"
      ]
     },
     "execution_count": 7,
     "metadata": {},
     "output_type": "execute_result"
    }
   ],
   "source": [
    "search(\"pain\")"
   ]
  },
  {
   "cell_type": "code",
   "execution_count": 8,
   "metadata": {},
   "outputs": [
    {
     "data": {
      "text/plain": [
       "['pantoprazole']"
      ]
     },
     "execution_count": 8,
     "metadata": {},
     "output_type": "execute_result"
    }
   ],
   "source": [
    "search(\"pantoprazole\")"
   ]
  },
  {
   "cell_type": "code",
   "execution_count": 9,
   "metadata": {},
   "outputs": [
    {
     "name": "stdout",
     "output_type": "stream",
     "text": [
      "NOT FOUND!\n"
     ]
    },
    {
     "data": {
      "text/plain": [
       "['diabetes']"
      ]
     },
     "execution_count": 9,
     "metadata": {},
     "output_type": "execute_result"
    }
   ],
   "source": [
    "search(\"diabetes\")"
   ]
  }
 ],
 "metadata": {
  "kernelspec": {
   "display_name": "Python 3",
   "language": "python",
   "name": "python3"
  },
  "language_info": {
   "codemirror_mode": {
    "name": "ipython",
    "version": 3
   },
   "file_extension": ".py",
   "mimetype": "text/x-python",
   "name": "python",
   "nbconvert_exporter": "python",
   "pygments_lexer": "ipython3",
   "version": "3.8.5"
  }
 },
 "nbformat": 4,
 "nbformat_minor": 4
}
