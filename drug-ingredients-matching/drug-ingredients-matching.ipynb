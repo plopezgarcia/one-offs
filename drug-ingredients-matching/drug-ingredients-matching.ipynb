{
 "cells": [
  {
   "cell_type": "markdown",
   "metadata": {},
   "source": [
    "# Check Medication Extraction Strings from an NLP System in the Official Bundesamt für Sicherheit im Gesundheitswesen Drug List (Austria)\n",
    "### Author: Pablo Lopez-Garcia\n",
    "### https://github.com/plopezgarcia/one-offs/tree/master/drug-ingredients-matching"
   ]
  },
  {
   "cell_type": "markdown",
   "metadata": {},
   "source": [
    "This takes a file of a medication extraction proprietary NLP system file as input that looks like:\n",
    "\n",
    "```\n",
    "MEDIKATION \n",
    "Sortis 80 mg 0-0-1\n",
    "Thrombo ASS 100 mg 0-1-0\n",
    "Ramipril 5 mg 1/2-0-0\n",
    "...\n",
    "```\n",
    "\n",
    "And sorts and classifies each drug/ingredient name according to the [official drugs table](https://aspregister.basg.gv.at/aspregister/faces/aspregister.jspx) published by the [Bundesamt für Sicherheit im Gesundheitswesen](http://www.basg.gv.at/) as one of the following:\n",
    "\n",
    "* **IS_DRUG**: It's a medication contained in the *drugs* dictionary\n",
    "* **IS_INGREDIENT**: It's a medication contained in the *ingredients* dictionary\n",
    "* **MISS**: None of the above. Marked for future inspection. In this case, the three closest matches from both dictionaries are attached to later easily evaluate if this could be a spelling mistake.\n",
    "\n",
    "Example output:\n",
    "\n",
    "```\n",
    "| drug                 | status         | suggest1       | suggest2      | suggest3 |\n",
    "|----------------------|----------------|----------------|---------------|----------|\n",
    "| abilify              | IS_DRUG        |                |               |          |\n",
    "| accupro              | IS_DRUG        |                |               |          |\n",
    "| accuzide             | IS_DRUG        |                |               |          |\n",
    "| ...                  | ...            |                |               |          |\n",
    "| acetylsalicylsäure   | IS_INGREDIENT  |                |               |          |\n",
    "| calcitriol           | IS_INGREDIENT  |                |               |          |\n",
    "| captopril            | IS_INGREDIENT  |                |               |          |\n",
    "| ...                  | ...            |                |               |          |\n",
    "| ursosin              | MISS           | urosin         | urolind       | urbason  |\n",
    "| uruflo               | MISS           | uroflo         | reflor        | nuflor   |\n",
    "| usofal               | MISS           | ursofalk       | salofalk      | ulsal    |\n",
    "| ...                  | ...            |                |               |          |\n",
    "\n",
    "```"
   ]
  },
  {
   "cell_type": "code",
   "execution_count": 1,
   "metadata": {},
   "outputs": [],
   "source": [
    "%matplotlib inline\n",
    "from matplotlib import pyplot as plt\n",
    "import pandas as pd\n",
    "import re\n",
    "import difflib"
   ]
  },
  {
   "cell_type": "markdown",
   "metadata": {},
   "source": [
    "## Extract Drug and Ingredient Dictionaries\n",
    "\n",
    "We first create two dictionaries (lists) for drugs and ingredients based on the [official drugs table](https://aspregister.basg.gv.at/aspregister/faces/aspregister.jspx) published by the [Bundesamt für Sicherheit im Gesundheitswesen](http://www.basg.gv.at/)"
   ]
  },
  {
   "cell_type": "code",
   "execution_count": 2,
   "metadata": {},
   "outputs": [
    {
     "name": "stdout",
     "output_type": "stream",
     "text": [
      "ROWS: 27412\n"
     ]
    },
    {
     "data": {
      "text/html": [
       "<div>\n",
       "<style scoped>\n",
       "    .dataframe tbody tr th:only-of-type {\n",
       "        vertical-align: middle;\n",
       "    }\n",
       "\n",
       "    .dataframe tbody tr th {\n",
       "        vertical-align: top;\n",
       "    }\n",
       "\n",
       "    .dataframe thead th {\n",
       "        text-align: right;\n",
       "    }\n",
       "</style>\n",
       "<table border=\"1\" class=\"dataframe\">\n",
       "  <thead>\n",
       "    <tr style=\"text-align: right;\">\n",
       "      <th></th>\n",
       "      <th>Name</th>\n",
       "      <th>Typ</th>\n",
       "      <th>Bezeichnung</th>\n",
       "      <th>Zulassungsnummer</th>\n",
       "      <th>Inhaber/-in</th>\n",
       "      <th>Zulassungsdatum</th>\n",
       "      <th>Wirkstoff</th>\n",
       "      <th>ATC Code</th>\n",
       "      <th>Suchtgift</th>\n",
       "      <th>Psychotrop</th>\n",
       "      <th>...</th>\n",
       "      <th>Verwendung</th>\n",
       "      <th>Arzneimittelkategorie</th>\n",
       "      <th>Zieltierart</th>\n",
       "      <th>Tierkategorie</th>\n",
       "      <th>Anwendungsart</th>\n",
       "      <th>Dosierung</th>\n",
       "      <th>Zielgewebe</th>\n",
       "      <th>Wartezeit</th>\n",
       "      <th>Einheit</th>\n",
       "      <th>Besonderheit</th>\n",
       "    </tr>\n",
       "  </thead>\n",
       "  <tbody>\n",
       "    <tr>\n",
       "      <th>5</th>\n",
       "      <td>Abacavir/Lamivudin Vale 600 mg/300 mg Filmtabl...</td>\n",
       "      <td>Arzneispezialität</td>\n",
       "      <td>Abacavir/Lamivudin Vale 600 mg/300 mg Filmtabl...</td>\n",
       "      <td>137907</td>\n",
       "      <td>Arcana Arzneimittel GmbH, Hütteldorfer Straße ...</td>\n",
       "      <td>2017-09-26</td>\n",
       "      <td>ABACAVIR HEMISULFAT; LAMIVUDIN</td>\n",
       "      <td>J05AR02</td>\n",
       "      <td>0</td>\n",
       "      <td>0</td>\n",
       "      <td>...</td>\n",
       "      <td>Human</td>\n",
       "      <td>Standardarzneimittel</td>\n",
       "      <td></td>\n",
       "      <td></td>\n",
       "      <td></td>\n",
       "      <td></td>\n",
       "      <td></td>\n",
       "      <td></td>\n",
       "      <td></td>\n",
       "      <td></td>\n",
       "    </tr>\n",
       "    <tr>\n",
       "      <th>6</th>\n",
       "      <td>ABASAGLAR 100 Einheiten/ml Injektionslösung in...</td>\n",
       "      <td>Arzneispezialität</td>\n",
       "      <td>ABASAGLAR 100 Einheiten/ml Injektionslösung in...</td>\n",
       "      <td>EU/1/14/944/005-008,010-013</td>\n",
       "      <td>Eli Lilly Regional Operations GmbH, Kölblgasse...</td>\n",
       "      <td>2014-09-09</td>\n",
       "      <td>INSULIN GLARGIN</td>\n",
       "      <td>A10AE04</td>\n",
       "      <td>0</td>\n",
       "      <td>0</td>\n",
       "      <td>...</td>\n",
       "      <td>Human</td>\n",
       "      <td>Biologika</td>\n",
       "      <td></td>\n",
       "      <td></td>\n",
       "      <td></td>\n",
       "      <td></td>\n",
       "      <td></td>\n",
       "      <td></td>\n",
       "      <td></td>\n",
       "      <td></td>\n",
       "    </tr>\n",
       "    <tr>\n",
       "      <th>7</th>\n",
       "      <td>ABASAGLAR 100 Einheiten/ml Injektionslösung in...</td>\n",
       "      <td>Arzneispezialität</td>\n",
       "      <td>ABASAGLAR 100 Einheiten/ml Injektionslösung in...</td>\n",
       "      <td>EU/1/14/944/001-004,009</td>\n",
       "      <td>Eli Lilly Regional Operations GmbH, Kölblgasse...</td>\n",
       "      <td>2014-09-09</td>\n",
       "      <td>INSULIN GLARGIN</td>\n",
       "      <td>A10AE04</td>\n",
       "      <td>0</td>\n",
       "      <td>0</td>\n",
       "      <td>...</td>\n",
       "      <td>Human</td>\n",
       "      <td>Biologika</td>\n",
       "      <td></td>\n",
       "      <td></td>\n",
       "      <td></td>\n",
       "      <td></td>\n",
       "      <td></td>\n",
       "      <td></td>\n",
       "      <td></td>\n",
       "      <td></td>\n",
       "    </tr>\n",
       "    <tr>\n",
       "      <th>8</th>\n",
       "      <td>ABC Lokale Schmerz-Therapie Wärme-Creme 750 Mi...</td>\n",
       "      <td>Arzneispezialität</td>\n",
       "      <td>ABC Lokale Schmerz-Therapie Wärme-Creme 750 Mi...</td>\n",
       "      <td>1-26384</td>\n",
       "      <td>Beiersdorf AG, Unnastraße 48, 20245 Hamburg, D...</td>\n",
       "      <td>2006-04-28</td>\n",
       "      <td>CAPSAICIN</td>\n",
       "      <td>M02AB</td>\n",
       "      <td>0</td>\n",
       "      <td>0</td>\n",
       "      <td>...</td>\n",
       "      <td>Human</td>\n",
       "      <td>Standardarzneimittel</td>\n",
       "      <td></td>\n",
       "      <td></td>\n",
       "      <td></td>\n",
       "      <td></td>\n",
       "      <td></td>\n",
       "      <td></td>\n",
       "      <td></td>\n",
       "      <td></td>\n",
       "    </tr>\n",
       "    <tr>\n",
       "      <th>9</th>\n",
       "      <td>ABC Lokale Schmerz-Therapie Wärme-Pflaster Cap...</td>\n",
       "      <td>Arzneispezialität</td>\n",
       "      <td>ABC Lokale Schmerz-Therapie Wärme-Pflaster Cap...</td>\n",
       "      <td>1-24003</td>\n",
       "      <td>Beiersdorf AG, Unnastraße 48, 20245 Hamburg, D...</td>\n",
       "      <td>2001-02-28</td>\n",
       "      <td>CAPSICI FRUCTUS (AUSZUG)</td>\n",
       "      <td>M02AB</td>\n",
       "      <td>0</td>\n",
       "      <td>0</td>\n",
       "      <td>...</td>\n",
       "      <td>Human</td>\n",
       "      <td>Phytoarzneimittel</td>\n",
       "      <td></td>\n",
       "      <td></td>\n",
       "      <td></td>\n",
       "      <td></td>\n",
       "      <td></td>\n",
       "      <td></td>\n",
       "      <td></td>\n",
       "      <td></td>\n",
       "    </tr>\n",
       "  </tbody>\n",
       "</table>\n",
       "<p>5 rows × 25 columns</p>\n",
       "</div>"
      ],
      "text/plain": [
       "                                                Name                Typ  \\\n",
       "5  Abacavir/Lamivudin Vale 600 mg/300 mg Filmtabl...  Arzneispezialität   \n",
       "6  ABASAGLAR 100 Einheiten/ml Injektionslösung in...  Arzneispezialität   \n",
       "7  ABASAGLAR 100 Einheiten/ml Injektionslösung in...  Arzneispezialität   \n",
       "8  ABC Lokale Schmerz-Therapie Wärme-Creme 750 Mi...  Arzneispezialität   \n",
       "9  ABC Lokale Schmerz-Therapie Wärme-Pflaster Cap...  Arzneispezialität   \n",
       "\n",
       "                                         Bezeichnung  \\\n",
       "5  Abacavir/Lamivudin Vale 600 mg/300 mg Filmtabl...   \n",
       "6  ABASAGLAR 100 Einheiten/ml Injektionslösung in...   \n",
       "7  ABASAGLAR 100 Einheiten/ml Injektionslösung in...   \n",
       "8  ABC Lokale Schmerz-Therapie Wärme-Creme 750 Mi...   \n",
       "9  ABC Lokale Schmerz-Therapie Wärme-Pflaster Cap...   \n",
       "\n",
       "              Zulassungsnummer  \\\n",
       "5                       137907   \n",
       "6  EU/1/14/944/005-008,010-013   \n",
       "7      EU/1/14/944/001-004,009   \n",
       "8                      1-26384   \n",
       "9                      1-24003   \n",
       "\n",
       "                                       Inhaber/-in\\t Zulassungsdatum  \\\n",
       "5  Arcana Arzneimittel GmbH, Hütteldorfer Straße ...      2017-09-26   \n",
       "6  Eli Lilly Regional Operations GmbH, Kölblgasse...      2014-09-09   \n",
       "7  Eli Lilly Regional Operations GmbH, Kölblgasse...      2014-09-09   \n",
       "8  Beiersdorf AG, Unnastraße 48, 20245 Hamburg, D...      2006-04-28   \n",
       "9  Beiersdorf AG, Unnastraße 48, 20245 Hamburg, D...      2001-02-28   \n",
       "\n",
       "                        Wirkstoff ATC Code Suchtgift Psychotrop     ...       \\\n",
       "5  ABACAVIR HEMISULFAT; LAMIVUDIN  J05AR02         0          0     ...        \n",
       "6                 INSULIN GLARGIN  A10AE04         0          0     ...        \n",
       "7                 INSULIN GLARGIN  A10AE04         0          0     ...        \n",
       "8                       CAPSAICIN    M02AB         0          0     ...        \n",
       "9        CAPSICI FRUCTUS (AUSZUG)    M02AB         0          0     ...        \n",
       "\n",
       "  Verwendung Arzneimittelkategorie Zieltierart Tierkategorie Anwendungsart  \\\n",
       "5      Human  Standardarzneimittel                                           \n",
       "6      Human             Biologika                                           \n",
       "7      Human             Biologika                                           \n",
       "8      Human  Standardarzneimittel                                           \n",
       "9      Human     Phytoarzneimittel                                           \n",
       "\n",
       "  Dosierung Zielgewebe Wartezeit Einheit Besonderheit  \n",
       "5                                                      \n",
       "6                                                      \n",
       "7                                                      \n",
       "8                                                      \n",
       "9                                                      \n",
       "\n",
       "[5 rows x 25 columns]"
      ]
     },
     "execution_count": 2,
     "metadata": {},
     "output_type": "execute_result"
    }
   ],
   "source": [
    "# Download drugs/asp_register.tsv from here: https://aspregister.basg.gv.at/aspregister/faces/aspregister.jspx\n",
    "drug_table = pd.read_csv('datafiles/asp_register.tsv', sep=',', quotechar='\"', header=0, na_filter=False)\n",
    "print(\"ROWS:\",len(drug_table))\n",
    "drug_table[5:10]"
   ]
  },
  {
   "cell_type": "markdown",
   "metadata": {},
   "source": [
    "As a first (oversimplified approach) we will just consider the first word of the drug to build the drugs dictionary."
   ]
  },
  {
   "cell_type": "code",
   "execution_count": 3,
   "metadata": {},
   "outputs": [
    {
     "name": "stdout",
     "output_type": "stream",
     "text": [
      "DRUGS: 5820\n"
     ]
    },
    {
     "data": {
      "text/plain": [
       "['abacavir/lamivudin', 'abasaglar', 'abc', 'abführtee', 'abies']"
      ]
     },
     "execution_count": 3,
     "metadata": {},
     "output_type": "execute_result"
    }
   ],
   "source": [
    "def first_word(string):\n",
    "    return(string.split(' ', 1)[0])\n",
    "\n",
    "drug_dict = drug_table['Bezeichnung'].apply(first_word)\n",
    "drug_dict = drug_dict.str.lower().replace(\"\\\"\", \"\")\n",
    "drug_dict = drug_dict.map(lambda x: x.replace(\"\\\"\", \"\"))\n",
    "drug_dict = drug_dict.drop_duplicates().sort_values()\n",
    "drug_dict = drug_dict.tolist()\n",
    "print(\"DRUGS:\", len(drug_dict))\n",
    "drug_dict[5:10]"
   ]
  },
  {
   "cell_type": "markdown",
   "metadata": {},
   "source": [
    "For ingredients we perform a basic cleanup and split based on ';' for multi-ingredient drugs and sort them alphabetically."
   ]
  },
  {
   "cell_type": "code",
   "execution_count": 4,
   "metadata": {},
   "outputs": [
    {
     "name": "stdout",
     "output_type": "stream",
     "text": [
      "INGREDIENTS: 3318\n"
     ]
    },
    {
     "data": {
      "text/plain": [
       "['alanin',\n",
       " 'albendazol',\n",
       " 'albiglutid',\n",
       " 'alchemilla vulgaris (hab)',\n",
       " 'alchemillae vulgaris herba']"
      ]
     },
     "execution_count": 4,
     "metadata": {},
     "output_type": "execute_result"
    }
   ],
   "source": [
    "ingredients_unprocessed = drug_table['Wirkstoff'].unique().tolist()\n",
    "\n",
    "ingredient_dict = []\n",
    "for i in ingredients_unprocessed:\n",
    "    ingredient_dict = ingredient_dict + i.split(';')\n",
    "\n",
    "ingredient_dict = sorted(set(map(lambda x: x.lower().strip(), ingredient_dict)))\n",
    "if '' in ingredient_dict:\n",
    "    ingredient_dict.remove('')\n",
    "    \n",
    "print(\"INGREDIENTS:\", len(ingredient_dict))\n",
    "ingredient_dict[100:105]"
   ]
  },
  {
   "cell_type": "markdown",
   "metadata": {},
   "source": [
    "In this last step we use as input a plain text file that contains extracted medication such as the one shown below. Unfortunately, the NLP system and file are proprietary and cannot be publicly shared:\n",
    "\n",
    "```\n",
    "MEDIKATION \n",
    "Sortis 80 mg 0-0-1\n",
    "Thrombo ASS 100 mg 0-1-0\n",
    "Ramipril 5 mg 1/2-0-0\n",
    "...\n",
    "```\n",
    "\n",
    "Medications extracted by the NLP system are not perfect and might contain actual drugs or ingredient names from the official dictionary, aside from \"other things\". This is done by the code listed below."
   ]
  },
  {
   "cell_type": "code",
   "execution_count": 5,
   "metadata": {},
   "outputs": [
    {
     "name": "stdout",
     "output_type": "stream",
     "text": [
      "CPU times: user 1min 44s, sys: 47.7 ms, total: 1min 44s\n",
      "Wall time: 1min 44s\n"
     ]
    }
   ],
   "source": [
    "%%time\n",
    "prescribed = pd.read_csv('datafiles/medikament.txt', sep='\\t', header=0, na_filter=False)\n",
    "prescribed = prescribed['MEDIKAMENT'].apply(first_word).drop_duplicates().sort_values()\n",
    "prescribed = prescribed.str.lower()\n",
    "prescribed = prescribed.tolist()\n",
    "\n",
    "drugs = []\n",
    "status = []\n",
    "suggest1 = []\n",
    "suggest2 = []\n",
    "suggest3 = []\n",
    "\n",
    "for p in prescribed:\n",
    "    drugs.append(p)\n",
    "    if p in drug_dict:\n",
    "        status.append(\"IS_DRUG\")\n",
    "        suggest1.append(\"\")\n",
    "        suggest2.append(\"\")\n",
    "        suggest3.append(\"\")\n",
    "    else:\n",
    "        if p in ingredient_dict:\n",
    "            status.append(\"IS_INGREDIENT\")\n",
    "            suggest1.append(\"\")\n",
    "            suggest2.append(\"\")\n",
    "            suggest3.append(\"\")\n",
    "        else:\n",
    "            status.append(\"MISS\")\n",
    "            closest_matches = difflib.get_close_matches(p, drug_dict + ingredient_dict)\n",
    "            try:\n",
    "                suggest1.append(closest_matches[0])\n",
    "            except IndexError:\n",
    "                suggest1.append(\"\")\n",
    "            try:\n",
    "                suggest2.append(closest_matches[1])\n",
    "            except IndexError:\n",
    "                suggest2.append(\"\")\n",
    "            try:\n",
    "                suggest3.append(closest_matches[2])\n",
    "            except IndexError:\n",
    "                suggest3.append(\"\")\n",
    "                \n",
    "matches = pd.DataFrame(data={'drug':drugs, 'status':status, 'suggest1':suggest1, 'suggest2':suggest2, 'suggest3':suggest3})\n",
    "matches = matches.sort_values(by=['status', 'drug'])"
   ]
  },
  {
   "cell_type": "markdown",
   "metadata": {},
   "source": [
    "The end result are extracted medication tagged as:\n",
    "* **IS_DRUG**: It's a medication contained in the *drugs* dictionary\n",
    "* **IS_INGREDIENT**: It's a medication contained in the *ingredients* dictionary\n",
    "* **MISS**: None of the above. Marked for future inspection. In this case, the three closest matches from both dictionaries are attached to later easily evaluate if this could be a spelling mistake."
   ]
  },
  {
   "cell_type": "markdown",
   "metadata": {},
   "source": [
    "Total numbers and excerpts below:"
   ]
  },
  {
   "cell_type": "code",
   "execution_count": 6,
   "metadata": {},
   "outputs": [
    {
     "name": "stdout",
     "output_type": "stream",
     "text": [
      "DRUGS: 1120/3299\n"
     ]
    },
    {
     "data": {
      "text/html": [
       "<div>\n",
       "<style scoped>\n",
       "    .dataframe tbody tr th:only-of-type {\n",
       "        vertical-align: middle;\n",
       "    }\n",
       "\n",
       "    .dataframe tbody tr th {\n",
       "        vertical-align: top;\n",
       "    }\n",
       "\n",
       "    .dataframe thead th {\n",
       "        text-align: right;\n",
       "    }\n",
       "</style>\n",
       "<table border=\"1\" class=\"dataframe\">\n",
       "  <thead>\n",
       "    <tr style=\"text-align: right;\">\n",
       "      <th></th>\n",
       "      <th>drug</th>\n",
       "      <th>status</th>\n",
       "      <th>suggest1</th>\n",
       "      <th>suggest2</th>\n",
       "      <th>suggest3</th>\n",
       "    </tr>\n",
       "  </thead>\n",
       "  <tbody>\n",
       "    <tr>\n",
       "      <th>292</th>\n",
       "      <td>astonin</td>\n",
       "      <td>IS_DRUG</td>\n",
       "      <td></td>\n",
       "      <td></td>\n",
       "      <td></td>\n",
       "    </tr>\n",
       "    <tr>\n",
       "      <th>55</th>\n",
       "      <td>atacand</td>\n",
       "      <td>IS_DRUG</td>\n",
       "      <td></td>\n",
       "      <td></td>\n",
       "      <td></td>\n",
       "    </tr>\n",
       "    <tr>\n",
       "      <th>57</th>\n",
       "      <td>atacand</td>\n",
       "      <td>IS_DRUG</td>\n",
       "      <td></td>\n",
       "      <td></td>\n",
       "      <td></td>\n",
       "    </tr>\n",
       "    <tr>\n",
       "      <th>294</th>\n",
       "      <td>atacand</td>\n",
       "      <td>IS_DRUG</td>\n",
       "      <td></td>\n",
       "      <td></td>\n",
       "      <td></td>\n",
       "    </tr>\n",
       "    <tr>\n",
       "      <th>300</th>\n",
       "      <td>atarax</td>\n",
       "      <td>IS_DRUG</td>\n",
       "      <td></td>\n",
       "      <td></td>\n",
       "      <td></td>\n",
       "    </tr>\n",
       "  </tbody>\n",
       "</table>\n",
       "</div>"
      ],
      "text/plain": [
       "        drug   status suggest1 suggest2 suggest3\n",
       "292  astonin  IS_DRUG                           \n",
       "55   atacand  IS_DRUG                           \n",
       "57   atacand  IS_DRUG                           \n",
       "294  atacand  IS_DRUG                           \n",
       "300   atarax  IS_DRUG                           "
      ]
     },
     "execution_count": 6,
     "metadata": {},
     "output_type": "execute_result"
    }
   ],
   "source": [
    "drugs = matches[matches.status=='IS_DRUG']\n",
    "print(\"DRUGS:\", '{}/{}'.format(len(drugs), len(matches)))\n",
    "drugs.iloc[100:105]"
   ]
  },
  {
   "cell_type": "code",
   "execution_count": 7,
   "metadata": {},
   "outputs": [
    {
     "name": "stdout",
     "output_type": "stream",
     "text": [
      "INGREDIENTS: 16/3299\n"
     ]
    },
    {
     "data": {
      "text/html": [
       "<div>\n",
       "<style scoped>\n",
       "    .dataframe tbody tr th:only-of-type {\n",
       "        vertical-align: middle;\n",
       "    }\n",
       "\n",
       "    .dataframe tbody tr th {\n",
       "        vertical-align: top;\n",
       "    }\n",
       "\n",
       "    .dataframe thead th {\n",
       "        text-align: right;\n",
       "    }\n",
       "</style>\n",
       "<table border=\"1\" class=\"dataframe\">\n",
       "  <thead>\n",
       "    <tr style=\"text-align: right;\">\n",
       "      <th></th>\n",
       "      <th>drug</th>\n",
       "      <th>status</th>\n",
       "      <th>suggest1</th>\n",
       "      <th>suggest2</th>\n",
       "      <th>suggest3</th>\n",
       "    </tr>\n",
       "  </thead>\n",
       "  <tbody>\n",
       "    <tr>\n",
       "      <th>2432</th>\n",
       "      <td>rifampicin</td>\n",
       "      <td>IS_INGREDIENT</td>\n",
       "      <td></td>\n",
       "      <td></td>\n",
       "      <td></td>\n",
       "    </tr>\n",
       "    <tr>\n",
       "      <th>2803</th>\n",
       "      <td>thalidomid</td>\n",
       "      <td>IS_INGREDIENT</td>\n",
       "      <td></td>\n",
       "      <td></td>\n",
       "      <td></td>\n",
       "    </tr>\n",
       "    <tr>\n",
       "      <th>2840</th>\n",
       "      <td>ticagrelor</td>\n",
       "      <td>IS_INGREDIENT</td>\n",
       "      <td></td>\n",
       "      <td></td>\n",
       "      <td></td>\n",
       "    </tr>\n",
       "    <tr>\n",
       "      <th>2844</th>\n",
       "      <td>timolol</td>\n",
       "      <td>IS_INGREDIENT</td>\n",
       "      <td></td>\n",
       "      <td></td>\n",
       "      <td></td>\n",
       "    </tr>\n",
       "    <tr>\n",
       "      <th>2901</th>\n",
       "      <td>triazolam</td>\n",
       "      <td>IS_INGREDIENT</td>\n",
       "      <td></td>\n",
       "      <td></td>\n",
       "      <td></td>\n",
       "    </tr>\n",
       "  </tbody>\n",
       "</table>\n",
       "</div>"
      ],
      "text/plain": [
       "            drug         status suggest1 suggest2 suggest3\n",
       "2432  rifampicin  IS_INGREDIENT                           \n",
       "2803  thalidomid  IS_INGREDIENT                           \n",
       "2840  ticagrelor  IS_INGREDIENT                           \n",
       "2844     timolol  IS_INGREDIENT                           \n",
       "2901   triazolam  IS_INGREDIENT                           "
      ]
     },
     "execution_count": 7,
     "metadata": {},
     "output_type": "execute_result"
    }
   ],
   "source": [
    "ingredients = matches[matches.status=='IS_INGREDIENT']\n",
    "print(\"INGREDIENTS:\", '{}/{}'.format(len(ingredients), len(matches)))\n",
    "ingredients.iloc[10:15]"
   ]
  },
  {
   "cell_type": "code",
   "execution_count": 8,
   "metadata": {},
   "outputs": [
    {
     "name": "stdout",
     "output_type": "stream",
     "text": [
      "MISSES: 2163/3299\n"
     ]
    },
    {
     "data": {
      "text/html": [
       "<div>\n",
       "<style scoped>\n",
       "    .dataframe tbody tr th:only-of-type {\n",
       "        vertical-align: middle;\n",
       "    }\n",
       "\n",
       "    .dataframe tbody tr th {\n",
       "        vertical-align: top;\n",
       "    }\n",
       "\n",
       "    .dataframe thead th {\n",
       "        text-align: right;\n",
       "    }\n",
       "</style>\n",
       "<table border=\"1\" class=\"dataframe\">\n",
       "  <thead>\n",
       "    <tr style=\"text-align: right;\">\n",
       "      <th></th>\n",
       "      <th>drug</th>\n",
       "      <th>status</th>\n",
       "      <th>suggest1</th>\n",
       "      <th>suggest2</th>\n",
       "      <th>suggest3</th>\n",
       "    </tr>\n",
       "  </thead>\n",
       "  <tbody>\n",
       "    <tr>\n",
       "      <th>81</th>\n",
       "      <td>acermin</td>\n",
       "      <td>MISS</td>\n",
       "      <td>acemin</td>\n",
       "      <td>ceremin</td>\n",
       "      <td>acerbine</td>\n",
       "    </tr>\n",
       "    <tr>\n",
       "      <th>87</th>\n",
       "      <td>acicolvir</td>\n",
       "      <td>MISS</td>\n",
       "      <td>aciclovir</td>\n",
       "      <td>aciclovir</td>\n",
       "      <td>ganciclovir</td>\n",
       "    </tr>\n",
       "    <tr>\n",
       "      <th>88</th>\n",
       "      <td>acilect</td>\n",
       "      <td>MISS</td>\n",
       "      <td>azilect</td>\n",
       "      <td>arileto</td>\n",
       "      <td>varitect</td>\n",
       "    </tr>\n",
       "    <tr>\n",
       "      <th>90</th>\n",
       "      <td>acimetin</td>\n",
       "      <td>MISS</td>\n",
       "      <td>acimethin</td>\n",
       "      <td>cimetidin</td>\n",
       "      <td>cimetidin</td>\n",
       "    </tr>\n",
       "    <tr>\n",
       "      <th>92</th>\n",
       "      <td>acopt</td>\n",
       "      <td>MISS</td>\n",
       "      <td>lacopat</td>\n",
       "      <td>azopt</td>\n",
       "      <td>aclop</td>\n",
       "    </tr>\n",
       "  </tbody>\n",
       "</table>\n",
       "</div>"
      ],
      "text/plain": [
       "         drug status   suggest1   suggest2     suggest3\n",
       "81    acermin   MISS     acemin    ceremin     acerbine\n",
       "87  acicolvir   MISS  aciclovir  aciclovir  ganciclovir\n",
       "88    acilect   MISS    azilect    arileto     varitect\n",
       "90   acimetin   MISS  acimethin  cimetidin    cimetidin\n",
       "92      acopt   MISS    lacopat      azopt        aclop"
      ]
     },
     "execution_count": 8,
     "metadata": {},
     "output_type": "execute_result"
    }
   ],
   "source": [
    "misses = matches[matches.status=='MISS']\n",
    "print(\"MISSES:\", '{}/{}'.format(len(misses), len(matches)))\n",
    "misses.iloc[60:65]"
   ]
  },
  {
   "cell_type": "markdown",
   "metadata": {},
   "source": [
    "The whole dataframe exported as CSV:"
   ]
  },
  {
   "cell_type": "code",
   "execution_count": 9,
   "metadata": {},
   "outputs": [],
   "source": [
    "matches.to_csv(\"coverage.csv\", index=False, sep='\\t')"
   ]
  },
  {
   "cell_type": "markdown",
   "metadata": {},
   "source": [
    "This file was later examined by a physician to further subclassify **MISSES** as:\n",
    "* **MISSPELL**: Most probably a misspelling of a drug/ingredient (check suggestion columns)\n",
    "* **FALSE_POS**: Clearly nom a drug, ingredient, medication, misspell... but a common German word or very obvious mistake. These should have never been identified as medication by the NLP system. \n",
    "* **CHECK**: Looks like a legit drug/ingredient but was not in the dictionaries. Further investigate: does the drug appear in other international dictionaries such as RxNorm?"
   ]
  },
  {
   "cell_type": "code",
   "execution_count": 11,
   "metadata": {},
   "outputs": [
    {
     "data": {
      "image/png": "[encoded data removed]",
      "text/plain": [
       "<Figure size 432x288 with 1 Axes>"
      ]
     },
     "metadata": {},
     "output_type": "display_data"
    }
   ],
   "source": [
    "end_counts = pd.Series([len(drugs),len(ingredients),1414,317,432], index=['IS_DRUG', 'IS_INGREDIENT', 'MISSPELL', 'FALSE_POS', 'CHECK'])\n",
    "end_counts.plot.bar()\n",
    "plt.title(\"Classification of Medication Extraction Strings from an NLP System\");"
   ]
  }
 ],
 "metadata": {
  "kernelspec": {
   "display_name": "Python 3",
   "language": "python",
   "name": "python3"
  },
  "language_info": {
   "codemirror_mode": {
    "name": "ipython",
    "version": 3
   },
   "file_extension": ".py",
   "mimetype": "text/x-python",
   "name": "python",
   "nbconvert_exporter": "python",
   "pygments_lexer": "ipython3",
   "version": "3.6.5"
  }
 },
 "nbformat": 4,
 "nbformat_minor": 2
}
